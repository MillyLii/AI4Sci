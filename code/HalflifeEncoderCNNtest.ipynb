{
 "cells": [
  {
   "cell_type": "code",
   "execution_count": null,
   "metadata": {},
   "outputs": [],
   "source": [
    "import h5py\n",
    "import torch\n",
    "import torch.nn as nn\n",
    "from sklearn.metrics import accuracy_score, precision_score, recall_score, f1_score, roc_auc_score"
   ]
  },
  {
   "cell_type": "markdown",
   "metadata": {},
   "source": [
    "## 1. Load Tensor"
   ]
  },
  {
   "cell_type": "code",
   "execution_count": 2,
   "metadata": {},
   "outputs": [
    {
     "name": "stderr",
     "output_type": "stream",
     "text": [
      "/tmp/ipykernel_222798/1483781461.py:7: FutureWarning: You are using `torch.load` with `weights_only=False` (the current default value), which uses the default pickle module implicitly. It is possible to construct malicious pickle data which will execute arbitrary code during unpickling (See https://github.com/pytorch/pytorch/blob/main/SECURITY.md#untrusted-models for more details). In a future release, the default value for `weights_only` will be flipped to `True`. This limits the functions that could be executed during unpickling. Arbitrary objects will no longer be allowed to be loaded via this mode unless they are explicitly allowlisted by the user via `torch.serialization.add_safe_globals`. We recommend you start setting `weights_only=True` for any use case where you don't have full control of the loaded file. Please open an issue on GitHub for any issues related to this experimental feature.\n",
      "  encoded_halflife_test = torch.load('../tensor/encoded_test_halflife_tensor2.pth')\n"
     ]
    }
   ],
   "source": [
    "file_path = \"../data/test.h5\"\n",
    "with h5py.File(file_path, 'r') as file:\n",
    "    data_label = file['label'][...]\n",
    "        \n",
    "    tensor_label_test = torch.tensor(data_label)\n",
    "    \n",
    "encoded_halflife_test = torch.load('../tensor/encoded_test_halflife_tensor2.pth')"
   ]
  },
  {
   "cell_type": "code",
   "execution_count": 4,
   "metadata": {},
   "outputs": [
    {
     "name": "stderr",
     "output_type": "stream",
     "text": [
      "/tmp/ipykernel_222798/2412120876.py:2: FutureWarning: You are using `torch.load` with `weights_only=False` (the current default value), which uses the default pickle module implicitly. It is possible to construct malicious pickle data which will execute arbitrary code during unpickling (See https://github.com/pytorch/pytorch/blob/main/SECURITY.md#untrusted-models for more details). In a future release, the default value for `weights_only` will be flipped to `True`. This limits the functions that could be executed during unpickling. Arbitrary objects will no longer be allowed to be loaded via this mode unless they are explicitly allowlisted by the user via `torch.serialization.add_safe_globals`. We recommend you start setting `weights_only=True` for any use case where you don't have full control of the loaded file. Please open an issue on GitHub for any issues related to this experimental feature.\n",
      "  tensor_promoter_test = torch.load(load_path)\n"
     ]
    }
   ],
   "source": [
    "load_path = '../tensor/tensor_promoter_test_embedding.pth'\n",
    "tensor_promoter_test = torch.load(load_path)"
   ]
  },
  {
   "cell_type": "markdown",
   "metadata": {},
   "source": [
    "## 2. Define model"
   ]
  },
  {
   "cell_type": "code",
   "execution_count": 7,
   "metadata": {},
   "outputs": [],
   "source": [
    "class CNNBinaryClassifier(nn.Module):\n",
    "    def __init__(self):\n",
    "        super(CNNBinaryClassifier, self).__init__()\n",
    "        \n",
    "        self.input_size = 5000\n",
    "        \n",
    "        self.conv1 = nn.Conv1d(256, 128, kernel_size=3, padding=1)\n",
    "        self.conv2 = nn.Conv1d(128, 64, kernel_size=3, padding=1)\n",
    "        self.conv3 = nn.Conv1d(64, 16, kernel_size=3, padding=1)  \n",
    "        self.conv4 = nn.Conv1d(16, 4, kernel_size=3, padding=1)\n",
    "        \n",
    "        self.pool = nn.MaxPool1d(2, 2)\n",
    "        \n",
    "        self.dropout = nn.Dropout(0.5) \n",
    "        \n",
    "        if self.input_size is not None:\n",
    "            self.fc1 = nn.Linear(self.input_size, 256)\n",
    "        else:\n",
    "            self.fc1 = None\n",
    "        self.fc2 = nn.Linear(256, 64)\n",
    "        self.fc3 = nn.Linear(64, 1)\n",
    "        \n",
    "        self.fc_y = nn.Linear(256,128)\n",
    "        self.linear_y = nn.Linear(128,1) \n",
    "    \n",
    "    def forward(self, x, y):\n",
    "\n",
    "        concat_tensor = torch.concat((x,y),dim=1)\n",
    "        concat_tensor = concat_tensor.permute(0,2,1)\n",
    "        \n",
    "        concat_tensor = self.pool(nn.functional.relu(self.conv1(concat_tensor)))\n",
    "        concat_tensor = self.pool(nn.functional.relu(self.conv2(concat_tensor)))\n",
    "        concat_tensor = self.pool(nn.functional.relu(self.conv3(concat_tensor)))  \n",
    "        concat_tensor = self.pool(nn.functional.relu(self.conv4(concat_tensor)))  \n",
    "        \n",
    "        concat_tensor = concat_tensor.view(concat_tensor.size(0), -1)# 32,5000\n",
    "        \n",
    "        if self.fc1 is None: \n",
    "            self.input_size = concat_tensor.size(1)  \n",
    "            self.fc1 = nn.Linear(self.input_size, 256).to(concat_tensor.device) \n",
    "        \n",
    "        concat_tensor = nn.functional.relu(self.fc1(concat_tensor))\n",
    "        concat_tensor = self.dropout(concat_tensor)\n",
    "        concat_tensor = nn.functional.relu(self.fc2(concat_tensor))\n",
    "        logit = self.fc3(concat_tensor)  \n",
    "        \n",
    "        return logit"
   ]
  },
  {
   "cell_type": "markdown",
   "metadata": {},
   "source": [
    "## 3. Obtain results"
   ]
  },
  {
   "cell_type": "code",
   "execution_count": null,
   "metadata": {},
   "outputs": [],
   "source": [
    "model = CNNBinaryClassifier().to('cpu')\n",
    "\n",
    "model.load_state_dict(torch.load('../model/CNNHalflifeEncodePred2.pth'))\n",
    "\n",
    "model.eval()\n",
    "\n",
    "tensor_halflife_test = encoded_halflife_test.float().to('cpu')\n",
    "tensor_promoter_test = tensor_promoter_test.float().to('cpu')\n",
    "\n",
    "\n",
    "with torch.no_grad():\n",
    "    outputs = model(tensor_halflife_test,tensor_promoter_test)\n",
    "\n",
    "probabilities = torch.sigmoid(outputs)\n",
    "\n",
    "valid_labels = tensor_label_test.float()\n",
    "\n",
    "predicted_labels = (probabilities > 0.55).float() \n",
    "\n",
    "# 计算各项指标\n",
    "accuracy = accuracy_score(valid_labels.numpy(), predicted_labels.numpy())\n",
    "precision = precision_score(valid_labels.numpy(), predicted_labels.numpy())\n",
    "recall = recall_score(valid_labels.numpy(), predicted_labels.numpy())\n",
    "f1 = f1_score(valid_labels.numpy(), predicted_labels.numpy())\n",
    "\n",
    "auc = roc_auc_score(valid_labels.numpy(), probabilities.numpy())\n",
    "\n",
    "print(f'Accuracy: {accuracy:.4f}')\n",
    "print(f'Precision: {precision:.4f}')\n",
    "print(f'Recall: {recall:.4f}')\n",
    "print(f'F1 Score: {f1:.4f}')\n",
    "print(f'AUC: {auc:.4f}')"
   ]
  }
 ],
 "metadata": {
  "kernelspec": {
   "display_name": "AIDNA",
   "language": "python",
   "name": "python3"
  },
  "language_info": {
   "codemirror_mode": {
    "name": "ipython",
    "version": 3
   },
   "file_extension": ".py",
   "mimetype": "text/x-python",
   "name": "python",
   "nbconvert_exporter": "python",
   "pygments_lexer": "ipython3",
   "version": "3.11.9"
  }
 },
 "nbformat": 4,
 "nbformat_minor": 2
}
